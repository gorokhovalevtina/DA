{
 "cells": [
  {
   "cell_type": "markdown",
   "metadata": {
    "id": "EVAmE5InQ2WG",
    "pycharm": {
     "name": "#%% md\n"
    }
   },
   "source": [
    "[![Open In Colab](https://colab.research.google.com/assets/colab-badge.svg)](https://colab.research.google.com/github/da-python/python-for-data-analytics/blob/main/Lesson2/hometask/HH-api-hometask.ipynb)"
   ]
  },
  {
   "cell_type": "markdown",
   "metadata": {},
   "source": [
    "### Домашнее задание №2"
   ]
  },
  {
   "cell_type": "markdown",
   "metadata": {
    "id": "ZtExa0gQQ2WT",
    "pycharm": {
     "name": "#%% md\n"
    }
   },
   "source": [
    "# Задание\n",
    "* Скачать все вакансии СБЕРа с ХХ (у апи есть ограничение в 2000, а также captcha подумайте как их можно обойти)\n",
    "* Извлеките все описания этих вакансий\n",
    "* Создайте DataFrame  добавьте поле skills\n",
    "* Переведите даты публикаций в datetime\n",
    "* Постройте график опубликованных вакансий по датам\n",
    "* Переведите даты в дни недели, и определите день недели, в который больше всего публикуют вакансий\n",
    "* Найдите те вакансии с использованием python, которые вам интересны\n",
    "* Определите по полю skills какие навыки больше всего востребованы для этих вакансий\n",
    "* Постройте график наиболее востребованных навыков для аналитика данных"
   ]
  },
  {
   "cell_type": "markdown",
   "metadata": {
    "id": "nw0m1GMtQ2WV",
    "pycharm": {
     "name": "#%% md\n"
    }
   },
   "source": [
    "https://github.com/hhru/api"
   ]
  },
  {
   "cell_type": "code",
   "execution_count": 1,
   "metadata": {
    "id": "Quylnx0HQ2WW",
    "pycharm": {
     "name": "#%%\n"
    }
   },
   "outputs": [],
   "source": [
    "import requests\n",
    "from tqdm.auto import tqdm\n",
    "import pandas as pd"
   ]
  },
  {
   "cell_type": "code",
   "execution_count": 2,
   "metadata": {
    "id": "qa9CJqSFQ2WY",
    "pycharm": {
     "name": "#%%\n"
    }
   },
   "outputs": [],
   "source": [
    "sber = '3529'\n",
    "page = 1\n",
    "num_per_page = 100\n",
    "url = f'https://api.hh.ru/vacancies?employer_id={sber}&page={page}&per_page={num_per_page}'"
   ]
  },
  {
   "cell_type": "code",
   "execution_count": 3,
   "metadata": {
    "id": "oyU08bQTQ2Wa",
    "pycharm": {
     "name": "#%%\n"
    }
   },
   "outputs": [],
   "source": [
    "url = f'https://api.hh.ru/vacancies'\n",
    "params = {\n",
    "    'employer_id':sber,\n",
    "    'page':page,\n",
    "    'per_page':num_per_page,\n",
    "}\n",
    "res = requests.get(url, params=params)"
   ]
  },
  {
   "cell_type": "code",
   "execution_count": 4,
   "metadata": {
    "id": "X7qN5Vq5Q2Wh",
    "outputId": "bff5f013-4341-4d83-ae51-008b89309faa",
    "pycharm": {
     "name": "#%%\n"
    }
   },
   "outputs": [
    {
     "name": "stdout",
     "output_type": "stream",
     "text": [
      "<Response [200]>\n"
     ]
    }
   ],
   "source": [
    "# Проверка, что все работает корректно\n",
    "print(res)"
   ]
  },
  {
   "cell_type": "code",
   "execution_count": 5,
   "metadata": {},
   "outputs": [
    {
     "data": {
      "text/plain": [
       "20"
      ]
     },
     "execution_count": 5,
     "metadata": {},
     "output_type": "execute_result"
    }
   ],
   "source": [
    "# Закачали вакансии в формате json в переменную vacancies\n",
    "vacancies = res.json()\n",
    "num_pages = vacancies.get('pages')\n",
    "num_pages"
   ]
  },
  {
   "cell_type": "code",
   "execution_count": 6,
   "metadata": {
    "id": "VlMKHOZzQ2Wl",
    "outputId": "8503328d-37bb-44cb-e666-1a5ec7b90a33",
    "pycharm": {
     "name": "#%%\n"
    }
   },
   "outputs": [
    {
     "data": {
      "text/plain": [
       "dict_keys(['items', 'found', 'pages', 'per_page', 'page', 'clusters', 'arguments', 'alternate_url'])"
      ]
     },
     "execution_count": 6,
     "metadata": {},
     "output_type": "execute_result"
    }
   ],
   "source": [
    "vacancies.keys()"
   ]
  },
  {
   "cell_type": "code",
   "execution_count": 8,
   "metadata": {
    "id": "6HYLSpoxQ2Wp",
    "pycharm": {
     "name": "#%%\n"
    }
   },
   "outputs": [],
   "source": [
    "vacancy_ids = [el.get('id') for el in vacancies.get('items')]\n",
    "vnum  = vacancies.get('pages')"
   ]
  },
  {
   "cell_type": "code",
   "execution_count": 9,
   "metadata": {
    "colab": {
     "referenced_widgets": [
      "5b1a4ad236524106a7b106aa36bc38b6"
     ]
    },
    "id": "o2mFum0BQ2Ws",
    "outputId": "aeb61016-02b0-47c3-965a-a91d0cb115df",
    "pycharm": {
     "name": "#%%\n"
    }
   },
   "outputs": [
    {
     "data": {
      "application/vnd.jupyter.widget-view+json": {
       "model_id": "22e14317b5be4af086949685a878671c",
       "version_major": 2,
       "version_minor": 0
      },
      "text/plain": [
       "  0%|          | 0/20 [00:00<?, ?it/s]"
      ]
     },
     "metadata": {},
     "output_type": "display_data"
    }
   ],
   "source": [
    "# Получаем список всех id вакансий\n",
    "all_vacancy_ids= []\n",
    "for i in tqdm(range(vnum)):\n",
    "    url = f'https://api.hh.ru/vacancies?employer_id={sber}&page={i}&per_page={num_per_page}'\n",
    "    res = requests.get(url)\n",
    "    vacancies = res.json()\n",
    "    vacancy_ids = [el.get('id') for el in vacancies.get('items')]\n",
    "    all_vacancy_ids.extend(vacancy_ids)"
   ]
  },
  {
   "cell_type": "code",
   "execution_count": 10,
   "metadata": {
    "id": "z51_QqrbQ2Wt",
    "outputId": "0f1b9a01-1b92-4ca0-994c-674e5c70ded0",
    "pycharm": {
     "name": "#%%\n"
    }
   },
   "outputs": [
    {
     "data": {
      "text/plain": [
       "2000"
      ]
     },
     "execution_count": 10,
     "metadata": {},
     "output_type": "execute_result"
    }
   ],
   "source": [
    "len(all_vacancy_ids)\n",
    "# https://api.hh.ru/vacancies/66634517"
   ]
  },
  {
   "cell_type": "code",
   "execution_count": 11,
   "metadata": {
    "colab": {
     "referenced_widgets": [
      "47025afc6a1345f89314e3ef0c8a7b91"
     ]
    },
    "id": "KHqppicNQ2Wu",
    "outputId": "8f60c91d-c4ac-4f15-f260-8476c1fa7b66",
    "pycharm": {
     "name": "#%%\n"
    }
   },
   "outputs": [
    {
     "data": {
      "application/vnd.jupyter.widget-view+json": {
       "model_id": "16ab980682a54080be45d3521644c2fa",
       "version_major": 2,
       "version_minor": 0
      },
      "text/plain": [
       "  0%|          | 0/2000 [00:00<?, ?it/s]"
      ]
     },
     "metadata": {},
     "output_type": "display_data"
    }
   ],
   "source": [
    "vacs = []\n",
    "for vac_id in tqdm(all_vacancy_ids):\n",
    "    url = f'https://api.hh.ru/vacancies/{vac_id}'\n",
    "    res = requests.get(url)\n",
    "    vacs.append(res.json())"
   ]
  },
  {
   "cell_type": "code",
   "execution_count": 12,
   "metadata": {
    "id": "Dgh2lcgrQ2Wx",
    "pycharm": {
     "name": "#%%\n"
    }
   },
   "outputs": [],
   "source": [
    "res = requests.get(url)"
   ]
  },
  {
   "cell_type": "code",
   "execution_count": 13,
   "metadata": {
    "id": "QK-NdqtoQ2Wz",
    "outputId": "71fe9d28-00a7-4ff0-d524-48ed149cab39",
    "pycharm": {
     "name": "#%%\n"
    }
   },
   "outputs": [
    {
     "data": {
      "text/plain": [
       "dict_keys(['id', 'premium', 'billing_type', 'relations', 'name', 'insider_interview', 'response_letter_required', 'area', 'salary', 'type', 'address', 'allow_messages', 'experience', 'schedule', 'employment', 'department', 'contacts', 'description', 'branded_description', 'vacancy_constructor_template', 'key_skills', 'accept_handicapped', 'accept_kids', 'archived', 'response_url', 'specializations', 'professional_roles', 'code', 'hidden', 'quick_responses_allowed', 'driver_license_types', 'accept_incomplete_resumes', 'employer', 'published_at', 'created_at', 'initial_created_at', 'negotiations_url', 'suitable_resumes_url', 'apply_alternate_url', 'has_test', 'test', 'alternate_url', 'working_days', 'working_time_intervals', 'working_time_modes', 'accept_temporary', 'languages'])"
      ]
     },
     "execution_count": 13,
     "metadata": {},
     "output_type": "execute_result"
    }
   ],
   "source": [
    "# Полчаем ключи внутри item\n",
    "res.json().keys()"
   ]
  },
  {
   "cell_type": "code",
   "execution_count": 15,
   "metadata": {
    "id": "mnf69DoqQ2W2",
    "pycharm": {
     "name": "#%%\n"
    }
   },
   "outputs": [],
   "source": [
    "# Формируем DataFrame\n",
    "df = pd.json_normalize(vacs)"
   ]
  },
  {
   "cell_type": "code",
   "execution_count": 16,
   "metadata": {
    "id": "8CSqsS2JQ2W2",
    "outputId": "424054a7-2cd2-4ee4-ad8c-fdeff80e6eb6",
    "pycharm": {
     "name": "#%%\n"
    }
   },
   "outputs": [
    {
     "data": {
      "text/html": [
       "<div>\n",
       "<style scoped>\n",
       "    .dataframe tbody tr th:only-of-type {\n",
       "        vertical-align: middle;\n",
       "    }\n",
       "\n",
       "    .dataframe tbody tr th {\n",
       "        vertical-align: top;\n",
       "    }\n",
       "\n",
       "    .dataframe thead th {\n",
       "        text-align: right;\n",
       "    }\n",
       "</style>\n",
       "<table border=\"1\" class=\"dataframe\">\n",
       "  <thead>\n",
       "    <tr style=\"text-align: right;\">\n",
       "      <th></th>\n",
       "      <th>id</th>\n",
       "      <th>premium</th>\n",
       "      <th>relations</th>\n",
       "      <th>name</th>\n",
       "      <th>insider_interview</th>\n",
       "      <th>response_letter_required</th>\n",
       "      <th>allow_messages</th>\n",
       "      <th>contacts</th>\n",
       "      <th>description</th>\n",
       "      <th>branded_description</th>\n",
       "      <th>...</th>\n",
       "      <th>employer.trusted</th>\n",
       "      <th>address</th>\n",
       "      <th>salary</th>\n",
       "      <th>address.metro.station_name</th>\n",
       "      <th>address.metro.line_name</th>\n",
       "      <th>address.metro.station_id</th>\n",
       "      <th>address.metro.line_id</th>\n",
       "      <th>address.metro.lat</th>\n",
       "      <th>address.metro.lng</th>\n",
       "      <th>department</th>\n",
       "    </tr>\n",
       "  </thead>\n",
       "  <tbody>\n",
       "    <tr>\n",
       "      <th>0</th>\n",
       "      <td>43756725</td>\n",
       "      <td>False</td>\n",
       "      <td>[]</td>\n",
       "      <td>Специалист контактного центра</td>\n",
       "      <td>None</td>\n",
       "      <td>False</td>\n",
       "      <td>True</td>\n",
       "      <td>None</td>\n",
       "      <td>&lt;p&gt;Сбер — это более 60 компаний экосистемы, 14...</td>\n",
       "      <td>\\n&lt;style&gt;\\n.tmpl_hh_wrapper p,\\n.tmpl_hh_wrapp...</td>\n",
       "      <td>...</td>\n",
       "      <td>True</td>\n",
       "      <td>NaN</td>\n",
       "      <td>NaN</td>\n",
       "      <td>NaN</td>\n",
       "      <td>NaN</td>\n",
       "      <td>NaN</td>\n",
       "      <td>NaN</td>\n",
       "      <td>NaN</td>\n",
       "      <td>NaN</td>\n",
       "      <td>NaN</td>\n",
       "    </tr>\n",
       "    <tr>\n",
       "      <th>1</th>\n",
       "      <td>55415805</td>\n",
       "      <td>False</td>\n",
       "      <td>[]</td>\n",
       "      <td>Менеджер по работе с клиентами</td>\n",
       "      <td>None</td>\n",
       "      <td>False</td>\n",
       "      <td>True</td>\n",
       "      <td>None</td>\n",
       "      <td>&lt;p&gt;Сбер — лучший работодатель России. У нас бо...</td>\n",
       "      <td>\\n&lt;style&gt;\\n.swiper-container {\\n    margin: 0 ...</td>\n",
       "      <td>...</td>\n",
       "      <td>True</td>\n",
       "      <td>NaN</td>\n",
       "      <td>NaN</td>\n",
       "      <td>NaN</td>\n",
       "      <td>NaN</td>\n",
       "      <td>NaN</td>\n",
       "      <td>NaN</td>\n",
       "      <td>NaN</td>\n",
       "      <td>NaN</td>\n",
       "      <td>NaN</td>\n",
       "    </tr>\n",
       "    <tr>\n",
       "      <th>2</th>\n",
       "      <td>67438948</td>\n",
       "      <td>False</td>\n",
       "      <td>[]</td>\n",
       "      <td>Специалист по работе с обращениями клиентов</td>\n",
       "      <td>None</td>\n",
       "      <td>False</td>\n",
       "      <td>True</td>\n",
       "      <td>None</td>\n",
       "      <td>&lt;p&gt;Сбер — лучший работодатель России. У нас бо...</td>\n",
       "      <td>\\n&lt;style&gt;\\n.swiper-container {\\n    margin: 0 ...</td>\n",
       "      <td>...</td>\n",
       "      <td>True</td>\n",
       "      <td>NaN</td>\n",
       "      <td>NaN</td>\n",
       "      <td>NaN</td>\n",
       "      <td>NaN</td>\n",
       "      <td>NaN</td>\n",
       "      <td>NaN</td>\n",
       "      <td>NaN</td>\n",
       "      <td>NaN</td>\n",
       "      <td>NaN</td>\n",
       "    </tr>\n",
       "    <tr>\n",
       "      <th>3</th>\n",
       "      <td>67636579</td>\n",
       "      <td>False</td>\n",
       "      <td>[]</td>\n",
       "      <td>Водитель-инкассатор</td>\n",
       "      <td>None</td>\n",
       "      <td>False</td>\n",
       "      <td>False</td>\n",
       "      <td>None</td>\n",
       "      <td>&lt;p&gt;Сбер — лучший работодатель России. У нас бо...</td>\n",
       "      <td>None</td>\n",
       "      <td>...</td>\n",
       "      <td>True</td>\n",
       "      <td>NaN</td>\n",
       "      <td>NaN</td>\n",
       "      <td>NaN</td>\n",
       "      <td>NaN</td>\n",
       "      <td>NaN</td>\n",
       "      <td>NaN</td>\n",
       "      <td>NaN</td>\n",
       "      <td>NaN</td>\n",
       "      <td>NaN</td>\n",
       "    </tr>\n",
       "    <tr>\n",
       "      <th>4</th>\n",
       "      <td>67821535</td>\n",
       "      <td>False</td>\n",
       "      <td>[]</td>\n",
       "      <td>Старший клиентский менеджер</td>\n",
       "      <td>None</td>\n",
       "      <td>False</td>\n",
       "      <td>True</td>\n",
       "      <td>None</td>\n",
       "      <td>&lt;p&gt;Сбер — лучший работодатель России. У нас бо...</td>\n",
       "      <td>\\n&lt;style&gt;\\n.swiper-container {\\n    margin: 0 ...</td>\n",
       "      <td>...</td>\n",
       "      <td>True</td>\n",
       "      <td>NaN</td>\n",
       "      <td>NaN</td>\n",
       "      <td>NaN</td>\n",
       "      <td>NaN</td>\n",
       "      <td>NaN</td>\n",
       "      <td>NaN</td>\n",
       "      <td>NaN</td>\n",
       "      <td>NaN</td>\n",
       "      <td>NaN</td>\n",
       "    </tr>\n",
       "  </tbody>\n",
       "</table>\n",
       "<p>5 rows × 83 columns</p>\n",
       "</div>"
      ],
      "text/plain": [
       "         id  premium relations                                         name  \\\n",
       "0  43756725    False        []                Специалист контактного центра   \n",
       "1  55415805    False        []               Менеджер по работе с клиентами   \n",
       "2  67438948    False        []  Специалист по работе с обращениями клиентов   \n",
       "3  67636579    False        []                          Водитель-инкассатор   \n",
       "4  67821535    False        []                  Старший клиентский менеджер   \n",
       "\n",
       "  insider_interview  response_letter_required  allow_messages contacts  \\\n",
       "0              None                     False            True     None   \n",
       "1              None                     False            True     None   \n",
       "2              None                     False            True     None   \n",
       "3              None                     False           False     None   \n",
       "4              None                     False            True     None   \n",
       "\n",
       "                                         description  \\\n",
       "0  <p>Сбер — это более 60 компаний экосистемы, 14...   \n",
       "1  <p>Сбер — лучший работодатель России. У нас бо...   \n",
       "2  <p>Сбер — лучший работодатель России. У нас бо...   \n",
       "3  <p>Сбер — лучший работодатель России. У нас бо...   \n",
       "4  <p>Сбер — лучший работодатель России. У нас бо...   \n",
       "\n",
       "                                 branded_description  ... employer.trusted  \\\n",
       "0  \\n<style>\\n.tmpl_hh_wrapper p,\\n.tmpl_hh_wrapp...  ...             True   \n",
       "1  \\n<style>\\n.swiper-container {\\n    margin: 0 ...  ...             True   \n",
       "2  \\n<style>\\n.swiper-container {\\n    margin: 0 ...  ...             True   \n",
       "3                                               None  ...             True   \n",
       "4  \\n<style>\\n.swiper-container {\\n    margin: 0 ...  ...             True   \n",
       "\n",
       "  address  salary  address.metro.station_name  address.metro.line_name  \\\n",
       "0     NaN     NaN                         NaN                      NaN   \n",
       "1     NaN     NaN                         NaN                      NaN   \n",
       "2     NaN     NaN                         NaN                      NaN   \n",
       "3     NaN     NaN                         NaN                      NaN   \n",
       "4     NaN     NaN                         NaN                      NaN   \n",
       "\n",
       "  address.metro.station_id address.metro.line_id address.metro.lat  \\\n",
       "0                      NaN                   NaN               NaN   \n",
       "1                      NaN                   NaN               NaN   \n",
       "2                      NaN                   NaN               NaN   \n",
       "3                      NaN                   NaN               NaN   \n",
       "4                      NaN                   NaN               NaN   \n",
       "\n",
       "  address.metro.lng  department  \n",
       "0               NaN         NaN  \n",
       "1               NaN         NaN  \n",
       "2               NaN         NaN  \n",
       "3               NaN         NaN  \n",
       "4               NaN         NaN  \n",
       "\n",
       "[5 rows x 83 columns]"
      ]
     },
     "execution_count": 16,
     "metadata": {},
     "output_type": "execute_result"
    }
   ],
   "source": [
    "df.head()"
   ]
  },
  {
   "cell_type": "code",
   "execution_count": 17,
   "metadata": {},
   "outputs": [],
   "source": [
    "# Добавим столбец skils  с описанием навыков в таблицу\n",
    "df['skills'] =df['key_skills'].apply(lambda s: \",\".join([x.get('name') for x in s]))"
   ]
  },
  {
   "cell_type": "code",
   "execution_count": 18,
   "metadata": {},
   "outputs": [],
   "source": [
    "# Переведем даты публикаций в  формат datetime \n",
    "import datetime\n",
    "from datetime import datetime, date, time\n",
    "\n",
    "df['published_at'] = pd.to_datetime(df['published_at'])\n",
    "df['published_at']= df['published_at'].dt.strftime('%Y-%m-%d')\n",
    "df['published_at'] = pd.to_datetime(df['published_at'])"
   ]
  },
  {
   "cell_type": "code",
   "execution_count": 19,
   "metadata": {},
   "outputs": [
    {
     "data": {
      "image/png": "[encoded data removed]",
      "text/plain": [
       "<Figure size 1008x360 with 1 Axes>"
      ]
     },
     "metadata": {
      "needs_background": "light"
     },
     "output_type": "display_data"
    }
   ],
   "source": [
    "# Построим график опубликованных вакансий по датам\n",
    "import matplotlib.pyplot as plt\n",
    "\n",
    "df.groupby('published_at').agg({'id':'count'}).plot(kind='bar', figsize = (14,5), color = 'green')\n",
    "plt.title('Распределение опубликованных вакансий по дате')\n",
    "plt.xlabel(\"Дата\")\n",
    "plt.ylabel(\"Число событий\")\n",
    "plt.xticks(rotation=90)\n",
    "plt.show()"
   ]
  },
  {
   "cell_type": "code",
   "execution_count": 20,
   "metadata": {},
   "outputs": [],
   "source": [
    "# Переведем даты в дни недели, и определим день недели, в который больше всего публикуют вакансий\n",
    "df['weekday'] = df['published_at'].apply(lambda x: x.weekday())"
   ]
  },
  {
   "cell_type": "code",
   "execution_count": 21,
   "metadata": {},
   "outputs": [
    {
     "data": {
      "text/plain": [
       "0    494\n",
       "1    479\n",
       "4    361\n",
       "3    322\n",
       "2    265\n",
       "6     53\n",
       "5     26\n",
       "Name: weekday, dtype: int64"
      ]
     },
     "execution_count": 21,
     "metadata": {},
     "output_type": "execute_result"
    }
   ],
   "source": [
    "df['weekday'].value_counts()"
   ]
  },
  {
   "cell_type": "code",
   "execution_count": 22,
   "metadata": {},
   "outputs": [
    {
     "data": {
      "image/png": "[encoded data removed]",
      "text/plain": [
       "<Figure size 1008x360 with 1 Axes>"
      ]
     },
     "metadata": {
      "needs_background": "light"
     },
     "output_type": "display_data"
    }
   ],
   "source": [
    "df['weekday'].value_counts().plot(kind='bar', figsize = (14,5), color = 'green')\n",
    "plt.title('Распределение опубликованных вакансий по дням недели')\n",
    "plt.xlabel(\"День недели\")\n",
    "plt.ylabel(\"Число событий\")\n",
    "plt.show()"
   ]
  },
  {
   "cell_type": "markdown",
   "metadata": {},
   "source": [
    "Итак, больше всего публикуют в понедельник и вторниик"
   ]
  },
  {
   "cell_type": "code",
   "execution_count": 23,
   "metadata": {},
   "outputs": [],
   "source": [
    "# Найдем те вакансии с использованием python, которые мне интересны (Старший менеджер по обслуживанию)"
   ]
  },
  {
   "cell_type": "code",
   "execution_count": 24,
   "metadata": {},
   "outputs": [
    {
     "data": {
      "text/plain": [
       "Старший менеджер по обслуживанию                                                       236\n",
       "Старший клиентский менеджер                                                            211\n",
       "Клиентский менеджер прямых продаж                                                      102\n",
       "Менеджер по работе с ключевыми клиентами малого бизнеса                                 48\n",
       "Водитель-инкассатор                                                                     26\n",
       "                                                                                      ... \n",
       "Старший менеджер по обслуживанию (с. Званное)                                            1\n",
       "Junior ABAP разработчик                                                                  1\n",
       "Старший менеджер по обслуживанию (с.Красноселькуп)                                       1\n",
       "Главный специалист контроля соблюдения регуляторных требований на финансовых рынках      1\n",
       "Аналитик по операционным расходам                                                        1\n",
       "Name: name, Length: 1014, dtype: int64"
      ]
     },
     "execution_count": 24,
     "metadata": {},
     "output_type": "execute_result"
    }
   ],
   "source": [
    "df.name.value_counts()"
   ]
  },
  {
   "cell_type": "code",
   "execution_count": 45,
   "metadata": {},
   "outputs": [
    {
     "data": {
      "text/html": [
       "<div>\n",
       "<style scoped>\n",
       "    .dataframe tbody tr th:only-of-type {\n",
       "        vertical-align: middle;\n",
       "    }\n",
       "\n",
       "    .dataframe tbody tr th {\n",
       "        vertical-align: top;\n",
       "    }\n",
       "\n",
       "    .dataframe thead th {\n",
       "        text-align: right;\n",
       "    }\n",
       "</style>\n",
       "<table border=\"1\" class=\"dataframe\">\n",
       "  <thead>\n",
       "    <tr style=\"text-align: right;\">\n",
       "      <th></th>\n",
       "      <th>id</th>\n",
       "      <th>premium</th>\n",
       "      <th>relations</th>\n",
       "      <th>name</th>\n",
       "      <th>insider_interview</th>\n",
       "      <th>response_letter_required</th>\n",
       "      <th>allow_messages</th>\n",
       "      <th>contacts</th>\n",
       "      <th>description</th>\n",
       "      <th>branded_description</th>\n",
       "      <th>...</th>\n",
       "      <th>salary</th>\n",
       "      <th>address.metro.station_name</th>\n",
       "      <th>address.metro.line_name</th>\n",
       "      <th>address.metro.station_id</th>\n",
       "      <th>address.metro.line_id</th>\n",
       "      <th>address.metro.lat</th>\n",
       "      <th>address.metro.lng</th>\n",
       "      <th>department</th>\n",
       "      <th>skills</th>\n",
       "      <th>weekday</th>\n",
       "    </tr>\n",
       "  </thead>\n",
       "  <tbody>\n",
       "    <tr>\n",
       "      <th>5</th>\n",
       "      <td>67454679</td>\n",
       "      <td>False</td>\n",
       "      <td>[]</td>\n",
       "      <td>Старший менеджер по обслуживанию</td>\n",
       "      <td>None</td>\n",
       "      <td>False</td>\n",
       "      <td>True</td>\n",
       "      <td>None</td>\n",
       "      <td>&lt;p&gt;Сбер — лучший работодатель России. У нас бо...</td>\n",
       "      <td>\\n&lt;style&gt;\\n.swiper-container {\\n    margin: 0 ...</td>\n",
       "      <td>...</td>\n",
       "      <td>NaN</td>\n",
       "      <td>NaN</td>\n",
       "      <td>NaN</td>\n",
       "      <td>NaN</td>\n",
       "      <td>NaN</td>\n",
       "      <td>NaN</td>\n",
       "      <td>NaN</td>\n",
       "      <td>NaN</td>\n",
       "      <td></td>\n",
       "      <td>0</td>\n",
       "    </tr>\n",
       "    <tr>\n",
       "      <th>12</th>\n",
       "      <td>68039955</td>\n",
       "      <td>False</td>\n",
       "      <td>[]</td>\n",
       "      <td>Старший менеджер по обслуживанию</td>\n",
       "      <td>None</td>\n",
       "      <td>False</td>\n",
       "      <td>True</td>\n",
       "      <td>None</td>\n",
       "      <td>&lt;p&gt;Сбер — это более 60 компаний экосистемы, 14...</td>\n",
       "      <td>\\n&lt;style&gt;\\n.swiper-container {\\n    margin: 0 ...</td>\n",
       "      <td>...</td>\n",
       "      <td>NaN</td>\n",
       "      <td>NaN</td>\n",
       "      <td>NaN</td>\n",
       "      <td>NaN</td>\n",
       "      <td>NaN</td>\n",
       "      <td>NaN</td>\n",
       "      <td>NaN</td>\n",
       "      <td>NaN</td>\n",
       "      <td>MS Outlook,Клиентоориентированность,Работа в к...</td>\n",
       "      <td>2</td>\n",
       "    </tr>\n",
       "    <tr>\n",
       "      <th>46</th>\n",
       "      <td>67660590</td>\n",
       "      <td>False</td>\n",
       "      <td>[]</td>\n",
       "      <td>Старший менеджер по обслуживанию</td>\n",
       "      <td>None</td>\n",
       "      <td>False</td>\n",
       "      <td>True</td>\n",
       "      <td>None</td>\n",
       "      <td>&lt;p&gt;Сбер — лучший работодатель России. У нас бо...</td>\n",
       "      <td>\\n&lt;style&gt;\\n.swiper-container {\\n    margin: 0 ...</td>\n",
       "      <td>...</td>\n",
       "      <td>NaN</td>\n",
       "      <td>NaN</td>\n",
       "      <td>NaN</td>\n",
       "      <td>NaN</td>\n",
       "      <td>NaN</td>\n",
       "      <td>NaN</td>\n",
       "      <td>NaN</td>\n",
       "      <td>NaN</td>\n",
       "      <td></td>\n",
       "      <td>0</td>\n",
       "    </tr>\n",
       "    <tr>\n",
       "      <th>86</th>\n",
       "      <td>68286522</td>\n",
       "      <td>False</td>\n",
       "      <td>[]</td>\n",
       "      <td>Старший менеджер по обслуживанию</td>\n",
       "      <td>None</td>\n",
       "      <td>False</td>\n",
       "      <td>True</td>\n",
       "      <td>None</td>\n",
       "      <td>&lt;p&gt;Сбер — лучший работодатель России. У нас бо...</td>\n",
       "      <td>\\n&lt;style&gt;\\n.swiper-container {\\n    margin: 0 ...</td>\n",
       "      <td>...</td>\n",
       "      <td>NaN</td>\n",
       "      <td>NaN</td>\n",
       "      <td>NaN</td>\n",
       "      <td>NaN</td>\n",
       "      <td>NaN</td>\n",
       "      <td>NaN</td>\n",
       "      <td>NaN</td>\n",
       "      <td>NaN</td>\n",
       "      <td></td>\n",
       "      <td>4</td>\n",
       "    </tr>\n",
       "    <tr>\n",
       "      <th>96</th>\n",
       "      <td>68064231</td>\n",
       "      <td>False</td>\n",
       "      <td>[]</td>\n",
       "      <td>Старший менеджер по обслуживанию</td>\n",
       "      <td>None</td>\n",
       "      <td>False</td>\n",
       "      <td>True</td>\n",
       "      <td>None</td>\n",
       "      <td>&lt;p&gt;Сбер — лучший работодатель России. У нас бо...</td>\n",
       "      <td>\\n&lt;style&gt;\\n.swiper-container {\\n    margin: 0 ...</td>\n",
       "      <td>...</td>\n",
       "      <td>NaN</td>\n",
       "      <td>NaN</td>\n",
       "      <td>NaN</td>\n",
       "      <td>NaN</td>\n",
       "      <td>NaN</td>\n",
       "      <td>NaN</td>\n",
       "      <td>NaN</td>\n",
       "      <td>NaN</td>\n",
       "      <td>Работа в команде,Навыки продаж,Клиентоориентир...</td>\n",
       "      <td>4</td>\n",
       "    </tr>\n",
       "    <tr>\n",
       "      <th>...</th>\n",
       "      <td>...</td>\n",
       "      <td>...</td>\n",
       "      <td>...</td>\n",
       "      <td>...</td>\n",
       "      <td>...</td>\n",
       "      <td>...</td>\n",
       "      <td>...</td>\n",
       "      <td>...</td>\n",
       "      <td>...</td>\n",
       "      <td>...</td>\n",
       "      <td>...</td>\n",
       "      <td>...</td>\n",
       "      <td>...</td>\n",
       "      <td>...</td>\n",
       "      <td>...</td>\n",
       "      <td>...</td>\n",
       "      <td>...</td>\n",
       "      <td>...</td>\n",
       "      <td>...</td>\n",
       "      <td>...</td>\n",
       "      <td>...</td>\n",
       "    </tr>\n",
       "    <tr>\n",
       "      <th>1935</th>\n",
       "      <td>68038727</td>\n",
       "      <td>False</td>\n",
       "      <td>[]</td>\n",
       "      <td>Старший менеджер по обслуживанию</td>\n",
       "      <td>None</td>\n",
       "      <td>False</td>\n",
       "      <td>True</td>\n",
       "      <td>None</td>\n",
       "      <td>&lt;p&gt;Сбер — лучший работодатель России. У нас бо...</td>\n",
       "      <td>\\n&lt;style&gt;\\n.swiper-container {\\n    margin: 0 ...</td>\n",
       "      <td>...</td>\n",
       "      <td>NaN</td>\n",
       "      <td>NaN</td>\n",
       "      <td>NaN</td>\n",
       "      <td>NaN</td>\n",
       "      <td>NaN</td>\n",
       "      <td>NaN</td>\n",
       "      <td>NaN</td>\n",
       "      <td>NaN</td>\n",
       "      <td></td>\n",
       "      <td>3</td>\n",
       "    </tr>\n",
       "    <tr>\n",
       "      <th>1953</th>\n",
       "      <td>55903517</td>\n",
       "      <td>False</td>\n",
       "      <td>[]</td>\n",
       "      <td>Старший менеджер по обслуживанию</td>\n",
       "      <td>None</td>\n",
       "      <td>False</td>\n",
       "      <td>True</td>\n",
       "      <td>None</td>\n",
       "      <td>&lt;p&gt;Сбер — это более 60 компаний экосистемы, 14...</td>\n",
       "      <td>\\n&lt;style&gt;\\n.swiper-container {\\n    margin: 0 ...</td>\n",
       "      <td>...</td>\n",
       "      <td>NaN</td>\n",
       "      <td>NaN</td>\n",
       "      <td>NaN</td>\n",
       "      <td>NaN</td>\n",
       "      <td>NaN</td>\n",
       "      <td>NaN</td>\n",
       "      <td>NaN</td>\n",
       "      <td>NaN</td>\n",
       "      <td></td>\n",
       "      <td>5</td>\n",
       "    </tr>\n",
       "    <tr>\n",
       "      <th>1979</th>\n",
       "      <td>67906989</td>\n",
       "      <td>False</td>\n",
       "      <td>[]</td>\n",
       "      <td>Старший менеджер по обслуживанию</td>\n",
       "      <td>None</td>\n",
       "      <td>False</td>\n",
       "      <td>True</td>\n",
       "      <td>None</td>\n",
       "      <td>&lt;p&gt;Сбер — лучший работодатель России. У нас бо...</td>\n",
       "      <td>\\n&lt;style&gt;\\n.swiper-container {\\n    margin: 0 ...</td>\n",
       "      <td>...</td>\n",
       "      <td>NaN</td>\n",
       "      <td>NaN</td>\n",
       "      <td>NaN</td>\n",
       "      <td>NaN</td>\n",
       "      <td>NaN</td>\n",
       "      <td>NaN</td>\n",
       "      <td>NaN</td>\n",
       "      <td>NaN</td>\n",
       "      <td></td>\n",
       "      <td>1</td>\n",
       "    </tr>\n",
       "    <tr>\n",
       "      <th>1990</th>\n",
       "      <td>67900872</td>\n",
       "      <td>False</td>\n",
       "      <td>[]</td>\n",
       "      <td>Старший менеджер по обслуживанию</td>\n",
       "      <td>None</td>\n",
       "      <td>False</td>\n",
       "      <td>True</td>\n",
       "      <td>None</td>\n",
       "      <td>&lt;p&gt;Сбер — лучший работодатель России. У нас бо...</td>\n",
       "      <td>\\n&lt;style&gt;\\n.swiper-container {\\n    margin: 0 ...</td>\n",
       "      <td>...</td>\n",
       "      <td>NaN</td>\n",
       "      <td>NaN</td>\n",
       "      <td>NaN</td>\n",
       "      <td>NaN</td>\n",
       "      <td>NaN</td>\n",
       "      <td>NaN</td>\n",
       "      <td>NaN</td>\n",
       "      <td>NaN</td>\n",
       "      <td></td>\n",
       "      <td>1</td>\n",
       "    </tr>\n",
       "    <tr>\n",
       "      <th>1993</th>\n",
       "      <td>54598698</td>\n",
       "      <td>False</td>\n",
       "      <td>[]</td>\n",
       "      <td>Старший менеджер по обслуживанию</td>\n",
       "      <td>None</td>\n",
       "      <td>False</td>\n",
       "      <td>True</td>\n",
       "      <td>None</td>\n",
       "      <td>&lt;p&gt;Сбер — это 14 тысяч подразделений и лучший ...</td>\n",
       "      <td>\\n&lt;style&gt;\\n.swiper-container {\\n    margin: 0 ...</td>\n",
       "      <td>...</td>\n",
       "      <td>NaN</td>\n",
       "      <td>NaN</td>\n",
       "      <td>NaN</td>\n",
       "      <td>NaN</td>\n",
       "      <td>NaN</td>\n",
       "      <td>NaN</td>\n",
       "      <td>NaN</td>\n",
       "      <td>NaN</td>\n",
       "      <td>Работа в команде,Работа с клиентами,Банковское...</td>\n",
       "      <td>1</td>\n",
       "    </tr>\n",
       "  </tbody>\n",
       "</table>\n",
       "<p>236 rows × 85 columns</p>\n",
       "</div>"
      ],
      "text/plain": [
       "            id  premium relations                              name  \\\n",
       "5     67454679    False        []  Старший менеджер по обслуживанию   \n",
       "12    68039955    False        []  Старший менеджер по обслуживанию   \n",
       "46    67660590    False        []  Старший менеджер по обслуживанию   \n",
       "86    68286522    False        []  Старший менеджер по обслуживанию   \n",
       "96    68064231    False        []  Старший менеджер по обслуживанию   \n",
       "...        ...      ...       ...                               ...   \n",
       "1935  68038727    False        []  Старший менеджер по обслуживанию   \n",
       "1953  55903517    False        []  Старший менеджер по обслуживанию   \n",
       "1979  67906989    False        []  Старший менеджер по обслуживанию   \n",
       "1990  67900872    False        []  Старший менеджер по обслуживанию   \n",
       "1993  54598698    False        []  Старший менеджер по обслуживанию   \n",
       "\n",
       "     insider_interview  response_letter_required  allow_messages contacts  \\\n",
       "5                 None                     False            True     None   \n",
       "12                None                     False            True     None   \n",
       "46                None                     False            True     None   \n",
       "86                None                     False            True     None   \n",
       "96                None                     False            True     None   \n",
       "...                ...                       ...             ...      ...   \n",
       "1935              None                     False            True     None   \n",
       "1953              None                     False            True     None   \n",
       "1979              None                     False            True     None   \n",
       "1990              None                     False            True     None   \n",
       "1993              None                     False            True     None   \n",
       "\n",
       "                                            description  \\\n",
       "5     <p>Сбер — лучший работодатель России. У нас бо...   \n",
       "12    <p>Сбер — это более 60 компаний экосистемы, 14...   \n",
       "46    <p>Сбер — лучший работодатель России. У нас бо...   \n",
       "86    <p>Сбер — лучший работодатель России. У нас бо...   \n",
       "96    <p>Сбер — лучший работодатель России. У нас бо...   \n",
       "...                                                 ...   \n",
       "1935  <p>Сбер — лучший работодатель России. У нас бо...   \n",
       "1953  <p>Сбер — это более 60 компаний экосистемы, 14...   \n",
       "1979  <p>Сбер — лучший работодатель России. У нас бо...   \n",
       "1990  <p>Сбер — лучший работодатель России. У нас бо...   \n",
       "1993  <p>Сбер — это 14 тысяч подразделений и лучший ...   \n",
       "\n",
       "                                    branded_description  ... salary  \\\n",
       "5     \\n<style>\\n.swiper-container {\\n    margin: 0 ...  ...    NaN   \n",
       "12    \\n<style>\\n.swiper-container {\\n    margin: 0 ...  ...    NaN   \n",
       "46    \\n<style>\\n.swiper-container {\\n    margin: 0 ...  ...    NaN   \n",
       "86    \\n<style>\\n.swiper-container {\\n    margin: 0 ...  ...    NaN   \n",
       "96    \\n<style>\\n.swiper-container {\\n    margin: 0 ...  ...    NaN   \n",
       "...                                                 ...  ...    ...   \n",
       "1935  \\n<style>\\n.swiper-container {\\n    margin: 0 ...  ...    NaN   \n",
       "1953  \\n<style>\\n.swiper-container {\\n    margin: 0 ...  ...    NaN   \n",
       "1979  \\n<style>\\n.swiper-container {\\n    margin: 0 ...  ...    NaN   \n",
       "1990  \\n<style>\\n.swiper-container {\\n    margin: 0 ...  ...    NaN   \n",
       "1993  \\n<style>\\n.swiper-container {\\n    margin: 0 ...  ...    NaN   \n",
       "\n",
       "     address.metro.station_name  address.metro.line_name  \\\n",
       "5                           NaN                      NaN   \n",
       "12                          NaN                      NaN   \n",
       "46                          NaN                      NaN   \n",
       "86                          NaN                      NaN   \n",
       "96                          NaN                      NaN   \n",
       "...                         ...                      ...   \n",
       "1935                        NaN                      NaN   \n",
       "1953                        NaN                      NaN   \n",
       "1979                        NaN                      NaN   \n",
       "1990                        NaN                      NaN   \n",
       "1993                        NaN                      NaN   \n",
       "\n",
       "      address.metro.station_id  address.metro.line_id address.metro.lat  \\\n",
       "5                          NaN                    NaN               NaN   \n",
       "12                         NaN                    NaN               NaN   \n",
       "46                         NaN                    NaN               NaN   \n",
       "86                         NaN                    NaN               NaN   \n",
       "96                         NaN                    NaN               NaN   \n",
       "...                        ...                    ...               ...   \n",
       "1935                       NaN                    NaN               NaN   \n",
       "1953                       NaN                    NaN               NaN   \n",
       "1979                       NaN                    NaN               NaN   \n",
       "1990                       NaN                    NaN               NaN   \n",
       "1993                       NaN                    NaN               NaN   \n",
       "\n",
       "     address.metro.lng department  \\\n",
       "5                  NaN        NaN   \n",
       "12                 NaN        NaN   \n",
       "46                 NaN        NaN   \n",
       "86                 NaN        NaN   \n",
       "96                 NaN        NaN   \n",
       "...                ...        ...   \n",
       "1935               NaN        NaN   \n",
       "1953               NaN        NaN   \n",
       "1979               NaN        NaN   \n",
       "1990               NaN        NaN   \n",
       "1993               NaN        NaN   \n",
       "\n",
       "                                                 skills  weekday  \n",
       "5                                                              0  \n",
       "12    MS Outlook,Клиентоориентированность,Работа в к...        2  \n",
       "46                                                             0  \n",
       "86                                                             4  \n",
       "96    Работа в команде,Навыки продаж,Клиентоориентир...        4  \n",
       "...                                                 ...      ...  \n",
       "1935                                                           3  \n",
       "1953                                                           5  \n",
       "1979                                                           1  \n",
       "1990                                                           1  \n",
       "1993  Работа в команде,Работа с клиентами,Банковское...        1  \n",
       "\n",
       "[236 rows x 85 columns]"
      ]
     },
     "execution_count": 45,
     "metadata": {},
     "output_type": "execute_result"
    }
   ],
   "source": [
    "new_df = df[df.name=='Старший менеджер по обслуживанию']\n",
    "new_df"
   ]
  },
  {
   "cell_type": "code",
   "execution_count": 46,
   "metadata": {
    "id": "7rm1krLWQ2W3",
    "pycharm": {
     "name": "#%%\n"
    }
   },
   "outputs": [
    {
     "data": {
      "text/plain": [
       "5                                                        \n",
       "12      MS Outlook,Клиентоориентированность,Работа в к...\n",
       "46                                                       \n",
       "86                                                       \n",
       "96      Работа в команде,Навыки продаж,Клиентоориентир...\n",
       "                              ...                        \n",
       "1935                                                     \n",
       "1953                                                     \n",
       "1979                                                     \n",
       "1990                                                     \n",
       "1993    Работа в команде,Работа с клиентами,Банковское...\n",
       "Name: skills, Length: 236, dtype: object"
      ]
     },
     "execution_count": 46,
     "metadata": {},
     "output_type": "execute_result"
    }
   ],
   "source": [
    "# Определите по полю skills какие навыки больше всего востребованы для этих вакансий\n",
    "new_df.skills"
   ]
  },
  {
   "cell_type": "code",
   "execution_count": 47,
   "metadata": {},
   "outputs": [
    {
     "data": {
      "text/plain": [
       "[('Работа в команде', 49),\n",
       " ('Работа с клиентами', 41),\n",
       " ('Клиентоориентированность', 38),\n",
       " ('Деловое общение', 31),\n",
       " ('Деловая переписка', 29)]"
      ]
     },
     "execution_count": 47,
     "metadata": {},
     "output_type": "execute_result"
    }
   ],
   "source": [
    "# найдем топ 5 навыков для этой вакансии\n",
    "from collections import Counter\n",
    "\n",
    "list_of_skills_new_df =new_df['key_skills'].apply(lambda s: \",\".join([x.get('name') for x in s])).tolist()\n",
    "c= Counter([x for x in ','.join(list_of_skills_new_df).split(',') if x !=\"\"])\n",
    "c.most_common(5)"
   ]
  },
  {
   "cell_type": "code",
   "execution_count": 53,
   "metadata": {},
   "outputs": [
    {
     "data": {
      "text/html": [
       "<div>\n",
       "<style scoped>\n",
       "    .dataframe tbody tr th:only-of-type {\n",
       "        vertical-align: middle;\n",
       "    }\n",
       "\n",
       "    .dataframe tbody tr th {\n",
       "        vertical-align: top;\n",
       "    }\n",
       "\n",
       "    .dataframe thead th {\n",
       "        text-align: right;\n",
       "    }\n",
       "</style>\n",
       "<table border=\"1\" class=\"dataframe\">\n",
       "  <thead>\n",
       "    <tr style=\"text-align: right;\">\n",
       "      <th></th>\n",
       "      <th>id</th>\n",
       "      <th>premium</th>\n",
       "      <th>relations</th>\n",
       "      <th>name</th>\n",
       "      <th>insider_interview</th>\n",
       "      <th>response_letter_required</th>\n",
       "      <th>allow_messages</th>\n",
       "      <th>contacts</th>\n",
       "      <th>description</th>\n",
       "      <th>branded_description</th>\n",
       "      <th>...</th>\n",
       "      <th>salary</th>\n",
       "      <th>address.metro.station_name</th>\n",
       "      <th>address.metro.line_name</th>\n",
       "      <th>address.metro.station_id</th>\n",
       "      <th>address.metro.line_id</th>\n",
       "      <th>address.metro.lat</th>\n",
       "      <th>address.metro.lng</th>\n",
       "      <th>department</th>\n",
       "      <th>skills</th>\n",
       "      <th>weekday</th>\n",
       "    </tr>\n",
       "  </thead>\n",
       "  <tbody>\n",
       "    <tr>\n",
       "      <th>431</th>\n",
       "      <td>68348917</td>\n",
       "      <td>False</td>\n",
       "      <td>[]</td>\n",
       "      <td>Аналитик</td>\n",
       "      <td>None</td>\n",
       "      <td>False</td>\n",
       "      <td>True</td>\n",
       "      <td>None</td>\n",
       "      <td>&lt;p&gt;Наша команда занимается проектом по техноло...</td>\n",
       "      <td>\\n&lt;style&gt;\\n.swiper-container {\\n    margin: 0 ...</td>\n",
       "      <td>...</td>\n",
       "      <td>NaN</td>\n",
       "      <td>NaN</td>\n",
       "      <td>NaN</td>\n",
       "      <td>NaN</td>\n",
       "      <td>NaN</td>\n",
       "      <td>NaN</td>\n",
       "      <td>NaN</td>\n",
       "      <td>NaN</td>\n",
       "      <td>UML,SQL,Тестирование,MS SQL,СУБД</td>\n",
       "      <td>0</td>\n",
       "    </tr>\n",
       "    <tr>\n",
       "      <th>657</th>\n",
       "      <td>67414601</td>\n",
       "      <td>False</td>\n",
       "      <td>[]</td>\n",
       "      <td>Аналитик</td>\n",
       "      <td>None</td>\n",
       "      <td>False</td>\n",
       "      <td>True</td>\n",
       "      <td>None</td>\n",
       "      <td>&lt;strong&gt;Обязанности:&lt;/strong&gt; &lt;ul&gt; &lt;li&gt;Подгото...</td>\n",
       "      <td>\\n&lt;style&gt;\\n.swiper-container {\\n    margin: 0 ...</td>\n",
       "      <td>...</td>\n",
       "      <td>NaN</td>\n",
       "      <td>NaN</td>\n",
       "      <td>NaN</td>\n",
       "      <td>NaN</td>\n",
       "      <td>NaN</td>\n",
       "      <td>NaN</td>\n",
       "      <td>NaN</td>\n",
       "      <td>NaN</td>\n",
       "      <td>SQL,Python,Математическая статистика,Математич...</td>\n",
       "      <td>1</td>\n",
       "    </tr>\n",
       "  </tbody>\n",
       "</table>\n",
       "<p>2 rows × 85 columns</p>\n",
       "</div>"
      ],
      "text/plain": [
       "           id  premium relations      name insider_interview  \\\n",
       "431  68348917    False        []  Аналитик              None   \n",
       "657  67414601    False        []  Аналитик              None   \n",
       "\n",
       "     response_letter_required  allow_messages contacts  \\\n",
       "431                     False            True     None   \n",
       "657                     False            True     None   \n",
       "\n",
       "                                           description  \\\n",
       "431  <p>Наша команда занимается проектом по техноло...   \n",
       "657  <strong>Обязанности:</strong> <ul> <li>Подгото...   \n",
       "\n",
       "                                   branded_description  ... salary  \\\n",
       "431  \\n<style>\\n.swiper-container {\\n    margin: 0 ...  ...    NaN   \n",
       "657  \\n<style>\\n.swiper-container {\\n    margin: 0 ...  ...    NaN   \n",
       "\n",
       "    address.metro.station_name  address.metro.line_name  \\\n",
       "431                        NaN                      NaN   \n",
       "657                        NaN                      NaN   \n",
       "\n",
       "     address.metro.station_id  address.metro.line_id address.metro.lat  \\\n",
       "431                       NaN                    NaN               NaN   \n",
       "657                       NaN                    NaN               NaN   \n",
       "\n",
       "    address.metro.lng department  \\\n",
       "431               NaN        NaN   \n",
       "657               NaN        NaN   \n",
       "\n",
       "                                                skills  weekday  \n",
       "431                   UML,SQL,Тестирование,MS SQL,СУБД        0  \n",
       "657  SQL,Python,Математическая статистика,Математич...        1  \n",
       "\n",
       "[2 rows x 85 columns]"
      ]
     },
     "execution_count": 53,
     "metadata": {},
     "output_type": "execute_result"
    }
   ],
   "source": [
    "#найдем топ-5 навыков для вакансии Аналитик  и построим график\n",
    "\n",
    "analitic = df[df.name=='Аналитик']\n",
    "analitic"
   ]
  },
  {
   "cell_type": "code",
   "execution_count": 54,
   "metadata": {},
   "outputs": [
    {
     "data": {
      "text/plain": [
       "[('SQL', 2), ('UML', 1), ('Тестирование', 1), ('MS SQL', 1), ('СУБД', 1)]"
      ]
     },
     "execution_count": 54,
     "metadata": {},
     "output_type": "execute_result"
    }
   ],
   "source": [
    "list_skills_analitic =analitic['key_skills'].apply(lambda s: \",\".join([x.get('name') for x in s])).tolist()\n",
    "c= Counter([x for x in ','.join(list_skills_analitic).split(',') if x !=\"\"])\n",
    "c.most_common(5)"
   ]
  },
  {
   "cell_type": "code",
   "execution_count": 79,
   "metadata": {},
   "outputs": [],
   "source": [
    "# Приведем список к объекту Series\n",
    "list =[x for x in ','.join(list_skills_analitic).split(',') if x !=\"\"]"
   ]
  },
  {
   "cell_type": "code",
   "execution_count": 80,
   "metadata": {},
   "outputs": [
    {
     "data": {
      "text/plain": [
       "SQL                          2\n",
       "UML                          1\n",
       "MS PowerPoint                1\n",
       "Математическая статистика    1\n",
       "Математический анализ        1\n",
       "Python                       1\n",
       "MS SQL                       1\n",
       "Тестирование                 1\n",
       "СУБД                         1\n",
       "dtype: int64"
      ]
     },
     "execution_count": 80,
     "metadata": {},
     "output_type": "execute_result"
    }
   ],
   "source": [
    "list_series = pd.Series(list)\n",
    "new_list = pd.Series(list_series.value_counts())\n",
    "new_list"
   ]
  },
  {
   "cell_type": "code",
   "execution_count": 82,
   "metadata": {},
   "outputs": [
    {
     "data": {
      "image/png": "[encoded data removed]",
      "text/plain": [
       "<Figure size 1008x360 with 1 Axes>"
      ]
     },
     "metadata": {
      "needs_background": "light"
     },
     "output_type": "display_data"
    }
   ],
   "source": [
    "# Постройте график наиболее востребованных навыков для аналитика данных\n",
    "new_list.plot(kind='bar', figsize = (14,5), color = 'green')\n",
    "plt.title('Распределение навыков по вакансии Аналитик')\n",
    "plt.xlabel(\"Навыки\")\n",
    "plt.show()"
   ]
  },
  {
   "cell_type": "code",
   "execution_count": null,
   "metadata": {},
   "outputs": [],
   "source": []
  }
 ],
 "metadata": {
  "colab": {
   "name": "HH-api-hometask.ipynb",
   "provenance": []
  },
  "kernelspec": {
   "display_name": "Python 3",
   "language": "python",
   "name": "python3"
  },
  "language_info": {
   "codemirror_mode": {
    "name": "ipython",
    "version": 3
   },
   "file_extension": ".py",
   "mimetype": "text/x-python",
   "name": "python",
   "nbconvert_exporter": "python",
   "pygments_lexer": "ipython3",
   "version": "3.8.8"
  },
  "toc": {
   "base_numbering": 1,
   "nav_menu": {},
   "number_sections": true,
   "sideBar": true,
   "skip_h1_title": false,
   "title_cell": "Table of Contents",
   "title_sidebar": "Contents",
   "toc_cell": false,
   "toc_position": {},
   "toc_section_display": true,
   "toc_window_display": false
  }
 },
 "nbformat": 4,
 "nbformat_minor": 1
}
